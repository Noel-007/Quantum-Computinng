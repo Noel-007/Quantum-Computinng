{
 "cells": [
  {
   "cell_type": "markdown",
   "id": "interstate-consideration",
   "metadata": {},
   "source": [
    "# Toffoli gate"
   ]
  },
  {
   "cell_type": "markdown",
   "id": "regulated-diving",
   "metadata": {},
   "source": [
    "## CCX gate"
   ]
  },
  {
   "cell_type": "markdown",
   "id": "municipal-minute",
   "metadata": {},
   "source": [
    "The CCX gate (controlled controlled X Gate) is also called a Toffoli gate. The CCX gate is a three-bit gate, with two controls and one target as their input and output. If the first two bits are in the state $|1\\rangle$, it applies a Pauli-X (or NOT) on the third bit. Otherwise, it does nothing. \n",
    "\n",
    "\n",
    "$CCX = \\begin{pmatrix}\n",
    "1 & 0 & 0 & 0 & 0 & 0 & 0 & 0 \\\\\n",
    "0 & 1 & 0 & 0 & 0 & 0 & 0 & 0 \\\\\n",
    "0 & 0 & 1 & 0 & 0 & 0 & 0 & 0 \\\\\n",
    "0 & 0 & 0 & 1 & 0 & 0 & 0 & 0 \\\\\n",
    "0 & 0 & 0 & 0 & 1 & 0 & 0 & 0 \\\\\n",
    "0 & 0 & 0 & 0 & 0 & 1 & 0 & 0 \\\\\n",
    "0 & 0 & 0 & 0 & 0 & 0 & 0 & 1 \\\\\n",
    "0 & 0 & 0 & 0 & 0 & 0 & 1 & 0 \\\\\n",
    "\\end{pmatrix}$\n",
    "\n",
    "\n",
    "\n",
    " check out for more info [`single qubit gates` ](https://qiskit.org/textbook/ch-states/single-qubit-gates.html)"
   ]
  },
  {
   "cell_type": "code",
   "execution_count": 1,
   "id": "arbitrary-pocket",
   "metadata": {},
   "outputs": [],
   "source": [
    "# Getting rid of unnecessary warnings\n",
    "import warnings\n",
    "from matplotlib.cbook import MatplotlibDeprecationWarning\n",
    "warnings.filterwarnings('ignore', category=MatplotlibDeprecationWarning)\n",
    "\n",
    "# Importing standard Qiskit libraries\n",
    "from qiskit import QuantumCircuit, execute, Aer, IBMQ, QuantumRegister, ClassicalRegister\n",
    "from qiskit.compiler import transpile, assemble\n",
    "from qiskit.tools.jupyter import *\n",
    "from qiskit.visualization import *\n",
    "from ibm_quantum_widgets import *\n",
    "\n",
    "# Useful to have pi\n",
    "import math\n",
    "pi=math.pi"
   ]
  },
  {
   "cell_type": "code",
   "execution_count": 2,
   "id": "excess-central",
   "metadata": {},
   "outputs": [
    {
     "data": {
      "image/png": "[encoded data removed]",
      "text/plain": [
       "<Figure size 146.797x204.68 with 1 Axes>"
      ]
     },
     "execution_count": 2,
     "metadata": {},
     "output_type": "execute_result"
    }
   ],
   "source": [
    "ccx_gate = QuantumCircuit(3)\n",
    "ccx_gate.ccx(0,1,2)\n",
    "ccx_gate.draw(output='mpl')"
   ]
  },
  {
   "cell_type": "markdown",
   "id": "funky-latest",
   "metadata": {},
   "source": [
    "## Using the Circuit Composer widget"
   ]
  },
  {
   "cell_type": "code",
   "execution_count": 10,
   "id": "korean-airport",
   "metadata": {},
   "outputs": [
    {
     "data": {
      "application/vnd.jupyter.widget-view+json": {
       "model_id": "0d27f46c81094910895989fbb6162b8a",
       "version_major": 2,
       "version_minor": 0
      },
      "text/plain": [
       "CircuitComposer(circuit=<qiskit.circuit.quantumcircuit.QuantumCircuit object at 0x000001E77382DFC8>)"
      ]
     },
     "metadata": {},
     "output_type": "display_data"
    }
   ],
   "source": [
    "from ibm_quantum_widgets import CircuitComposer\n",
    "editor = CircuitComposer()\n",
    "editor"
   ]
  },
  {
   "cell_type": "markdown",
   "id": "cardiac-douglas",
   "metadata": {},
   "source": [
    "## Composite quantum gates and their cost\n",
    "\n",
    "A real quantum computer normally does not have physical implementations of all gates. Instead they use a small set of base gates, which form a universal gate set, this is, similar to the classical case, a set of instructions which can be used to implement all possible operations.\n",
    "\n",
    "For this reason, quantum circuits must be transpiled into basis gates before execution. This is usually done automatically by Qiskit transpiler when a quantum circuit is sent to a IBM Quantum system. The basis gates for IBM Quantum system is typically CX, ID, RZ, SX and X gates.\n",
    "\n",
    "Consider an example"
   ]
  },
  {
   "cell_type": "code",
   "execution_count": 5,
   "id": "promising-connectivity",
   "metadata": {},
   "outputs": [
    {
     "data": {
      "image/png": "[encoded data removed]",
      "text/plain": [
       "<Figure size 146.652x144.48 with 1 Axes>"
      ]
     },
     "execution_count": 5,
     "metadata": {},
     "output_type": "execute_result"
    }
   ],
   "source": [
    "qc = QuantumCircuit(2)\n",
    "qc.sxdg(0)\n",
    "qc.t(1)\n",
    "qc.draw(output='mpl')"
   ]
  },
  {
   "cell_type": "markdown",
   "id": "disciplinary-protest",
   "metadata": {},
   "source": [
    "Now lets show how a decomposition of the above circuit for a quantum computer, using only the base gates, could look."
   ]
  },
  {
   "cell_type": "code",
   "execution_count": 6,
   "id": "spoken-governor",
   "metadata": {},
   "outputs": [
    {
     "data": {
      "image/png": "[encoded data removed]",
      "text/plain": [
       "<Figure size 267.052x144.48 with 1 Axes>"
      ]
     },
     "execution_count": 6,
     "metadata": {},
     "output_type": "execute_result"
    }
   ],
   "source": [
    "qc = QuantumCircuit(2)\n",
    "qc.sx(0)\n",
    "qc.sx(0)\n",
    "qc.sx(0)\n",
    "qc.rz(pi/4,1)\n",
    "qc.draw(output='mpl')"
   ]
  },
  {
   "cell_type": "markdown",
   "id": "liberal-shelf",
   "metadata": {},
   "source": [
    "As you can see, we now use only the base gates, but for this reason more total gates are used. The more gates a circuit has, the more complex it is to run. So, when we want to calculate the cost of a circuit, we consider the number of gates used. However, not all gates are considered equal expensive, so when we calculate the cost of a circuit, we use the following formula:\n",
    "\n",
    "$$\n",
    "Cost = 10 N_{CNOT} + N_{other}\n",
    "$$\n",
    "\n",
    "where $N_{CNOT}$ is the number of CNOT gate and $N_{other}$ is the number of other gates.\n"
   ]
  },
  {
   "cell_type": "markdown",
   "id": "activated-penetration",
   "metadata": {},
   "source": [
    "### Hadamard gate\n",
    "\n",
    "AA Hadamard gate represents a rotation of $\\pi$ about the axis that is in the middle of the X-axis and Z-axis.\n",
    "It maps the basis state $|0\\rangle$ to $\\frac{|0\\rangle + |1\\rangle}{\\sqrt{2}}$, which means that a measurement will have equal probabilities of being `1` or `0`, creating a 'superposition' of states. This state is also written as $|+\\rangle$. What the Hadamard does is to transform between the $|0\\rangle$ $|1\\rangle$ and the $|+\\rangle$ $|-\\rangle$ base. \n",
    "\n",
    "$H = \\frac{1}{\\sqrt{2}}\\begin{pmatrix}\n",
    "1 & 1 \\\\\n",
    "1 & -1 \\\\\n",
    "\\end{pmatrix}$"
   ]
  },
  {
   "cell_type": "code",
   "execution_count": 2,
   "id": "threatened-nigeria",
   "metadata": {},
   "outputs": [
    {
     "data": {
      "image/png": "[encoded data removed]",
      "text/plain": [
       "<Figure size 133.526x84.28 with 1 Axes>"
      ]
     },
     "execution_count": 2,
     "metadata": {},
     "output_type": "execute_result"
    }
   ],
   "source": [
    "#  H-gate on a |0> qubit\n",
    "h_gate = QuantumCircuit(1)\n",
    "h_gate.h(0)\n",
    "h_gate.draw(output='mpl')"
   ]
  },
  {
   "cell_type": "markdown",
   "id": "composite-toronto",
   "metadata": {},
   "source": [
    "As said all operations can be expressed just using the base gates. We don't have a base gate which does a direct rotation around the axis that is in the middle of the X-axis and Z-axis, so we instead use rotations around the X-axis and Z-axis to get the same result. \n"
   ]
  },
  {
   "cell_type": "code",
   "execution_count": 3,
   "id": "incorporate-reporter",
   "metadata": {},
   "outputs": [
    {
     "data": {
      "image/png": "[encoded data removed]",
      "text/plain": [
       "<Figure size 266.907x144.48 with 1 Axes>"
      ]
     },
     "execution_count": 3,
     "metadata": {},
     "output_type": "execute_result"
    }
   ],
   "source": [
    "q=QuantumRegister(1)\n",
    "c=ClassicalRegister(1)\n",
    "qc=QuantumCircuit(q,c)\n",
    "qc.rz(pi/2, 0)\n",
    "qc.sx(0)\n",
    "qc.rz(pi/2, 0)\n",
    "qc.draw(output='mpl')"
   ]
  },
  {
   "cell_type": "markdown",
   "id": "expressed-topic",
   "metadata": {},
   "source": [
    "The Toffoli gate is a universal gate for classical computation the same way the NAND gate is, but it is reversible. Further  it builds a simple universal gate set for quantum computation if combined with the Hadamard gate. \n",
    "\n",
    "Now to construct a Toffoli gate only using our basis gates.The biggest challenge is to construct the needed controlled rotations."
   ]
  },
  {
   "attachments": {
    "toffoli%20%282%29.png": {
     "image/png": "[encoded data removed]"
    }
   },
   "cell_type": "markdown",
   "id": "tropical-moldova",
   "metadata": {},
   "source": [
    "![toffoli%20%282%29.png](attachment:toffoli%20%282%29.png)"
   ]
  },
  {
   "attachments": {
    "toffoli_1.png": {
     "image/png": "[encoded data removed]"
    }
   },
   "cell_type": "markdown",
   "id": "parallel-pressure",
   "metadata": {},
   "source": [
    "![toffoli_1.png](attachment:toffoli_1.png)"
   ]
  },
  {
   "cell_type": "code",
   "execution_count": 4,
   "id": "available-carolina",
   "metadata": {},
   "outputs": [
    {
     "data": {
      "application/vnd.jupyter.widget-view+json": {
       "model_id": "6530db170eda477daf769283628edf54",
       "version_major": 2,
       "version_minor": 0
      },
      "text/plain": [
       "CircuitComposer(circuit=<qiskit.circuit.quantumcircuit.QuantumCircuit object at 0x000001E77373A188>)"
      ]
     },
     "metadata": {},
     "output_type": "display_data"
    }
   ],
   "source": [
    "from qiskit import QuantumRegister, ClassicalRegister, QuantumCircuit\n",
    "from qiskit import IBMQ, Aer, execute\n",
    "from ibm_quantum_widgets import CircuitComposer\n",
    "editorEx = CircuitComposer() \n",
    "editorEx\n",
    "##### Build your quantum circuit here using the composer widget."
   ]
  },
  {
   "cell_type": "code",
   "execution_count": 5,
   "id": "prostate-diabetes",
   "metadata": {},
   "outputs": [
    {
     "data": {
      "text/plain": [
       "<qiskit.circuit.instructionset.InstructionSet at 0x1e773db75c8>"
      ]
     },
     "execution_count": 5,
     "metadata": {},
     "output_type": "execute_result"
    }
   ],
   "source": [
    "# You can also build your circuit programmatically using Qiskit code\n",
    "\n",
    "circuit = QuantumCircuit(3)\n",
    "\n",
    "circuit.rz(pi/2,2)\n",
    "circuit.sx(2)\n",
    "circuit.rz(pi/2,2)\n",
    "circuit.cx(1,2)\n",
    "circuit.rz(-pi/4,2)\n",
    "circuit.cx(0,2)\n",
    "circuit.rz(pi/4,2)\n",
    "circuit.cx(1,2)\n",
    "circuit.rz(-pi/4,2)\n",
    "circuit.cx(0,2)\n",
    "circuit.rz(-pi/4,1)\n",
    "circuit.rz(pi/4,2)\n",
    "circuit.cx(0,1)\n",
    "circuit.rz(-pi/4,1)\n",
    "circuit.cx(0,1)\n",
    "circuit.rz(pi/2,1)\n",
    "circuit.rz(pi/4,0)\n",
    "circuit.rz(pi/2,2)\n",
    "circuit.sx(2)\n",
    "circuit.rz(pi/2,2)\n"
   ]
  },
  {
   "cell_type": "code",
   "execution_count": 6,
   "id": "massive-singapore",
   "metadata": {},
   "outputs": [
    {
     "data": {
      "image/png": "[encoded data removed]",
      "text/plain": [
       "<Figure size 929.397x204.68 with 1 Axes>"
      ]
     },
     "execution_count": 6,
     "metadata": {},
     "output_type": "execute_result"
    }
   ],
   "source": [
    "qc = editorEx.circuit \n",
    "qc = circuit \n",
    "\n",
    "qc.draw(output='mpl')"
   ]
  },
  {
   "cell_type": "markdown",
   "id": "olive-clone",
   "metadata": {},
   "source": [
    "Now decompose the circuit "
   ]
  },
  {
   "cell_type": "code",
   "execution_count": 9,
   "id": "ordered-cooler",
   "metadata": {},
   "outputs": [
    {
     "data": {
      "image/png": "[encoded data removed]",
      "text/plain": [
       "<Figure size 1170.2x204.68 with 1 Axes>"
      ]
     },
     "execution_count": 9,
     "metadata": {},
     "output_type": "execute_result"
    }
   ],
   "source": [
    "qc = qc.decompose()\n",
    "qc.draw('mpl')"
   ]
  }
 ],
 "metadata": {
  "kernelspec": {
   "display_name": "Python 3",
   "language": "python",
   "name": "python3"
  },
  "language_info": {
   "codemirror_mode": {
    "name": "ipython",
    "version": 3
   },
   "file_extension": ".py",
   "mimetype": "text/x-python",
   "name": "python",
   "nbconvert_exporter": "python",
   "pygments_lexer": "ipython3",
   "version": "3.7.8"
  },
  "widgets": {
   "application/vnd.jupyter.widget-state+json": {
    "state": {
     "065a88067c6d4f2ea53f27b84a2ba139": {
      "model_module": "@jupyter-widgets/controls",
      "model_module_version": "1.5.0",
      "model_name": "HBoxModel",
      "state": {
       "children": [
        "IPY_MODEL_8342a8f24c574a93ab04c0763a147c7d",
        "IPY_MODEL_35d8c7cec50f4ba886cc79d07b2b5717",
        "IPY_MODEL_697e1079246e4e168baff5ae564bf54b",
        "IPY_MODEL_f71c2655880e47258b3f280bb4a950eb",
        "IPY_MODEL_46c0f376fee44243ab6857cf0bcbfc30"
       ],
       "layout": "IPY_MODEL_199ca2c1ad534704aaa0f35737683e29"
      }
     },
     "0a8eef5b101548e09564f406390a969b": {
      "model_module": "@jupyter-widgets/controls",
      "model_module_version": "1.5.0",
      "model_name": "HTMLModel",
      "state": {
       "layout": "IPY_MODEL_a7a3ba067a124e65b71ee9764737e8c0",
       "style": "IPY_MODEL_12f6d61f915b4185abd36f5db7abd3d4",
       "value": "<h5>Backend</h5>"
      }
     },
     "0d27f46c81094910895989fbb6162b8a": {
      "model_module": "@quantum/ibm-q-lab-widgets",
      "model_module_version": "^1.0.3",
      "model_name": "CircuitComposerModel",
      "state": {
       "_model_module_version": "^1.0.3",
       "_view_module_version": "^1.0.3",
       "circuit": "\"OPENQASM 2.0;\\ninclude \\\"qelib1.inc\\\";\\n\\nqreg q[3];\\ncreg c[3];\\n\\nccx q[0],q[1],q[2];\"",
       "editable": true,
       "layout": "IPY_MODEL_f873d7b8774241ecaa01b1d94e4d8f14",
       "qiskit_code_cell_index": -1
      }
     },
     "12f6d61f915b4185abd36f5db7abd3d4": {
      "model_module": "@jupyter-widgets/controls",
      "model_module_version": "1.5.0",
      "model_name": "DescriptionStyleModel",
      "state": {
       "description_width": ""
      }
     },
     "156f230d377e4dc48897d0e328ae312a": {
      "model_module": "@jupyter-widgets/controls",
      "model_module_version": "1.5.0",
      "model_name": "DescriptionStyleModel",
      "state": {
       "description_width": ""
      }
     },
     "156f7a6cbf684f4b89d812183830c07c": {
      "model_module": "@jupyter-widgets/base",
      "model_module_version": "1.2.0",
      "model_name": "LayoutModel",
      "state": {
       "width": "145px"
      }
     },
     "199ca2c1ad534704aaa0f35737683e29": {
      "model_module": "@jupyter-widgets/base",
      "model_module_version": "1.2.0",
      "model_name": "LayoutModel",
      "state": {
       "margin": "0px 0px 0px 37px",
       "width": "600px"
      }
     },
     "1b6053a705a046899332d6af25d4871b": {
      "model_module": "@jupyter-widgets/base",
      "model_module_version": "1.2.0",
      "model_name": "LayoutModel",
      "state": {
       "margin": "0px 0px 0px 37px",
       "width": "600px"
      }
     },
     "1ba72a5012504b8f9c1ac3186f398762": {
      "model_module": "@jupyter-widgets/controls",
      "model_module_version": "1.5.0",
      "model_name": "HTMLModel",
      "state": {
       "layout": "IPY_MODEL_a762b425c069420ea900c6667d3323a2",
       "style": "IPY_MODEL_3cff81586eaf490588b290f073e1747c",
       "value": "<h5>Job ID</h5>"
      }
     },
     "1f1ccf63e11d43e2b1c5eb94cdda4ad4": {
      "model_module": "@jupyter-widgets/controls",
      "model_module_version": "1.5.0",
      "model_name": "DescriptionStyleModel",
      "state": {
       "description_width": ""
      }
     },
     "213297f2fa274aae8c10054e679c13c0": {
      "model_module": "@jupyter-widgets/controls",
      "model_module_version": "1.5.0",
      "model_name": "DescriptionStyleModel",
      "state": {
       "description_width": ""
      }
     },
     "24a1d030c7f74a5484629823b578fa8d": {
      "model_module": "@jupyter-widgets/controls",
      "model_module_version": "1.5.0",
      "model_name": "DescriptionStyleModel",
      "state": {
       "description_width": ""
      }
     },
     "26ee098a761e4c46a0cfd1bd9c8fb175": {
      "model_module": "@jupyter-widgets/controls",
      "model_module_version": "1.5.0",
      "model_name": "DescriptionStyleModel",
      "state": {
       "description_width": ""
      }
     },
     "2aeed0acbda443a68e0d0585791048b7": {
      "model_module": "@jupyter-widgets/controls",
      "model_module_version": "1.5.0",
      "model_name": "HTMLModel",
      "state": {
       "layout": "IPY_MODEL_d3662db69a624be3acaa575fbae3d59e",
       "style": "IPY_MODEL_1f1ccf63e11d43e2b1c5eb94cdda4ad4",
       "value": "<h5>Status</h5>"
      }
     },
     "35d8c7cec50f4ba886cc79d07b2b5717": {
      "model_module": "@jupyter-widgets/controls",
      "model_module_version": "1.5.0",
      "model_name": "HTMLModel",
      "state": {
       "layout": "IPY_MODEL_156f7a6cbf684f4b89d812183830c07c",
       "style": "IPY_MODEL_8cf9cf54fbb343a080cb9d13aaaeee3e",
       "value": "<h5>Backend</h5>"
      }
     },
     "37fbc0c4d127407b8dbf7b46dc149f36": {
      "model_module": "@jupyter-widgets/base",
      "model_module_version": "1.2.0",
      "model_name": "LayoutModel",
      "state": {
       "width": "70px"
      }
     },
     "3cff81586eaf490588b290f073e1747c": {
      "model_module": "@jupyter-widgets/controls",
      "model_module_version": "1.5.0",
      "model_name": "DescriptionStyleModel",
      "state": {
       "description_width": ""
      }
     },
     "46c0f376fee44243ab6857cf0bcbfc30": {
      "model_module": "@jupyter-widgets/controls",
      "model_module_version": "1.5.0",
      "model_name": "HTMLModel",
      "state": {
       "layout": "IPY_MODEL_9f0b2aebee55442fa639378eb69024d5",
       "style": "IPY_MODEL_7c32c7c80b314796a1a6a8cebfaef951",
       "value": "<h5>Message</h5>"
      }
     },
     "582df6824f6246bd92e918f75936733e": {
      "model_module": "@jupyter-widgets/base",
      "model_module_version": "1.2.0",
      "model_name": "LayoutModel",
      "state": {
       "grid_area": "right",
       "padding": "0px 0px 0px 0px",
       "width": "70px"
      }
     },
     "63532bdaa4c4421a9db33d6316d3478d": {
      "model_module": "@jupyter-widgets/controls",
      "model_module_version": "1.5.0",
      "model_name": "ButtonStyleModel",
      "state": {}
     },
     "6530db170eda477daf769283628edf54": {
      "model_module": "@quantum/ibm-q-lab-widgets",
      "model_module_version": "^1.0.3",
      "model_name": "CircuitComposerModel",
      "state": {
       "_model_module_version": "^1.0.3",
       "_view_module_version": "^1.0.3",
       "circuit": "\"OPENQASM 2.0;\\ninclude \\\"qelib1.inc\\\";\\n\\nqreg q[3];\\ncreg c[3];\\n\\nrz(pi/2) q[2];\\nsx q[2];\\nrz(pi/2) q[2];\\ncx q[1],q[2];\\nrz(-pi/4) q[2];\\ncx q[0],q[2];\\nrz(pi/4) q[2];\\ncx q[1],q[2];\\nrz(-pi/4) q[1];\\nrz(-pi/4) q[2];\\ncx q[0],q[2];\\ncx q[0],q[1];\\nrz(-pi/4) q[1];\\ncx q[0],q[1];\\nrz(pi/4) q[0];\\nrz(pi/2) q[1];\\nrz(pi/2) q[2];\\nsx q[2];\\nrz(pi/2) q[2];\"",
       "editable": true,
       "layout": "IPY_MODEL_758ed88d0e924a2aa35036b679929cd2",
       "qiskit_code_cell_index": -1
      }
     },
     "697e1079246e4e168baff5ae564bf54b": {
      "model_module": "@jupyter-widgets/controls",
      "model_module_version": "1.5.0",
      "model_name": "HTMLModel",
      "state": {
       "layout": "IPY_MODEL_ce0a4bbc1335436b9554875cc8c96738",
       "style": "IPY_MODEL_e1ddec83d21b49438ad3b62beae85362",
       "value": "<h5>Status</h5>"
      }
     },
     "758ed88d0e924a2aa35036b679929cd2": {
      "model_module": "@jupyter-widgets/base",
      "model_module_version": "1.2.0",
      "model_name": "LayoutModel",
      "state": {}
     },
     "7c32c7c80b314796a1a6a8cebfaef951": {
      "model_module": "@jupyter-widgets/controls",
      "model_module_version": "1.5.0",
      "model_name": "DescriptionStyleModel",
      "state": {
       "description_width": ""
      }
     },
     "7ed66f4b448b4826a686b24fa8f2b12e": {
      "model_module": "@jupyter-widgets/base",
      "model_module_version": "1.2.0",
      "model_name": "LayoutModel",
      "state": {}
     },
     "8342a8f24c574a93ab04c0763a147c7d": {
      "model_module": "@jupyter-widgets/controls",
      "model_module_version": "1.5.0",
      "model_name": "HTMLModel",
      "state": {
       "layout": "IPY_MODEL_933b5a71f2474ee1be8d72514b761a9a",
       "style": "IPY_MODEL_92b73a8592e545808bbf8b4249b6e1c8",
       "value": "<h5>Job ID</h5>"
      }
     },
     "88a057d897f640138cbbafce6cf3dbef": {
      "model_module": "@jupyter-widgets/controls",
      "model_module_version": "1.5.0",
      "model_name": "HTMLModel",
      "state": {
       "layout": "IPY_MODEL_e9134e0f557744cd9472277cb151c2d7",
       "style": "IPY_MODEL_24a1d030c7f74a5484629823b578fa8d",
       "value": "<p style='font-family: IBM Plex Sans, Arial, Helvetica, sans-serif; font-size: 20px; font-weight: medium;'>Circuit Properties</p>"
      }
     },
     "8cf9cf54fbb343a080cb9d13aaaeee3e": {
      "model_module": "@jupyter-widgets/controls",
      "model_module_version": "1.5.0",
      "model_name": "DescriptionStyleModel",
      "state": {
       "description_width": ""
      }
     },
     "8e918997fe034f53ab4eb2449b481e69": {
      "model_module": "@jupyter-widgets/controls",
      "model_module_version": "1.5.0",
      "model_name": "ButtonModel",
      "state": {
       "button_style": "primary",
       "description": "Clear",
       "layout": "IPY_MODEL_e53e70e08536476ca59a744fe7dffce4",
       "style": "IPY_MODEL_63532bdaa4c4421a9db33d6316d3478d"
      }
     },
     "8f38b521130b48749f0f6f2a2b115e8a": {
      "model_module": "@jupyter-widgets/controls",
      "model_module_version": "1.5.0",
      "model_name": "GridBoxModel",
      "state": {
       "children": [
        "IPY_MODEL_8e918997fe034f53ab4eb2449b481e69"
       ],
       "layout": "IPY_MODEL_a0e657fbee3848b19583e719e98b6b6b"
      }
     },
     "92b73a8592e545808bbf8b4249b6e1c8": {
      "model_module": "@jupyter-widgets/controls",
      "model_module_version": "1.5.0",
      "model_name": "DescriptionStyleModel",
      "state": {
       "description_width": ""
      }
     },
     "933b5a71f2474ee1be8d72514b761a9a": {
      "model_module": "@jupyter-widgets/base",
      "model_module_version": "1.2.0",
      "model_name": "LayoutModel",
      "state": {
       "width": "190px"
      }
     },
     "937cb5f140c343bcb4bfd8ba576657ef": {
      "model_module": "@jupyter-widgets/controls",
      "model_module_version": "1.5.0",
      "model_name": "DescriptionStyleModel",
      "state": {
       "description_width": ""
      }
     },
     "9733c093044b42c89baa6366b5da7cf2": {
      "model_module": "@jupyter-widgets/controls",
      "model_module_version": "1.5.0",
      "model_name": "GridBoxModel",
      "state": {
       "children": [
        "IPY_MODEL_bd968318e8aa4095a73a6774a23d11fa"
       ],
       "layout": "IPY_MODEL_b4e98cb0b8f842fda19835e22f2770e3"
      }
     },
     "9cea9295394b4a66b63828db507e719e": {
      "model_module": "@quantum/ibm-q-lab-widgets",
      "model_module_version": "^1.0.3",
      "model_name": "CircuitComposerModel",
      "state": {
       "_model_module_version": "^1.0.3",
       "_view_module_version": "^1.0.3",
       "circuit": "\"OPENQASM 2.0;\\ninclude \\\"qelib1.inc\\\";\\n\\nqreg q[3];\\ncreg c[3];\\n\\nccx q[0],q[1],q[2];\"",
       "editable": true,
       "layout": "IPY_MODEL_baf3d22e5aa04358a3286bd049596d8f",
       "qiskit_code_cell_index": 7
      }
     },
     "9f0b2aebee55442fa639378eb69024d5": {
      "model_module": "@jupyter-widgets/base",
      "model_module_version": "1.2.0",
      "model_name": "LayoutModel",
      "state": {}
     },
     "a0e657fbee3848b19583e719e98b6b6b": {
      "model_module": "@jupyter-widgets/base",
      "model_module_version": "1.2.0",
      "model_name": "LayoutModel",
      "state": {
       "grid_template_areas": "\n                                       \". . . . right \"\n                                        ",
       "grid_template_columns": "20% 20% 20% 20% 20%",
       "width": "100%"
      }
     },
     "a762b425c069420ea900c6667d3323a2": {
      "model_module": "@jupyter-widgets/base",
      "model_module_version": "1.2.0",
      "model_name": "LayoutModel",
      "state": {
       "width": "190px"
      }
     },
     "a7a3ba067a124e65b71ee9764737e8c0": {
      "model_module": "@jupyter-widgets/base",
      "model_module_version": "1.2.0",
      "model_name": "LayoutModel",
      "state": {
       "width": "145px"
      }
     },
     "abe7c5797354470d87239b359610000d": {
      "model_module": "@jupyter-widgets/base",
      "model_module_version": "1.2.0",
      "model_name": "LayoutModel",
      "state": {
       "width": "70px"
      }
     },
     "b310b2c8e60a4041b252a5da0e69bf88": {
      "model_module": "@jupyter-widgets/controls",
      "model_module_version": "1.5.0",
      "model_name": "HBoxModel",
      "state": {
       "children": [
        "IPY_MODEL_1ba72a5012504b8f9c1ac3186f398762",
        "IPY_MODEL_0a8eef5b101548e09564f406390a969b",
        "IPY_MODEL_2aeed0acbda443a68e0d0585791048b7",
        "IPY_MODEL_c1cf3a684edf4fb3a227c02dc4595500",
        "IPY_MODEL_d193dc86e3ce48f1b611718f865d05d2"
       ],
       "layout": "IPY_MODEL_1b6053a705a046899332d6af25d4871b"
      }
     },
     "b4e98cb0b8f842fda19835e22f2770e3": {
      "model_module": "@jupyter-widgets/base",
      "model_module_version": "1.2.0",
      "model_name": "LayoutModel",
      "state": {
       "grid_template_areas": "\n                                       \". . . . right \"\n                                        ",
       "grid_template_columns": "20% 20% 20% 20% 20%",
       "width": "100%"
      }
     },
     "baf3d22e5aa04358a3286bd049596d8f": {
      "model_module": "@jupyter-widgets/base",
      "model_module_version": "1.2.0",
      "model_name": "LayoutModel",
      "state": {}
     },
     "bd968318e8aa4095a73a6774a23d11fa": {
      "model_module": "@jupyter-widgets/controls",
      "model_module_version": "1.5.0",
      "model_name": "ButtonModel",
      "state": {
       "button_style": "primary",
       "description": "Clear",
       "layout": "IPY_MODEL_582df6824f6246bd92e918f75936733e",
       "style": "IPY_MODEL_e5787f917cd24b978deba3828e21eec3"
      }
     },
     "c1cf3a684edf4fb3a227c02dc4595500": {
      "model_module": "@jupyter-widgets/controls",
      "model_module_version": "1.5.0",
      "model_name": "HTMLModel",
      "state": {
       "layout": "IPY_MODEL_37fbc0c4d127407b8dbf7b46dc149f36",
       "style": "IPY_MODEL_26ee098a761e4c46a0cfd1bd9c8fb175",
       "value": "<h5>Queue</h5>"
      }
     },
     "c743a829e2834402b2d358464a6bd3dd": {
      "model_module": "@jupyter-widgets/controls",
      "model_module_version": "1.5.0",
      "model_name": "HTMLModel",
      "state": {
       "layout": "IPY_MODEL_e956ef23489c4d39b4afd5d07f9744d9",
       "style": "IPY_MODEL_937cb5f140c343bcb4bfd8ba576657ef",
       "value": "<p style='font-family: IBM Plex Sans, Arial, Helvetica, sans-serif; font-size: 20px; font-weight: medium;'>Circuit Properties</p>"
      }
     },
     "ce0a4bbc1335436b9554875cc8c96738": {
      "model_module": "@jupyter-widgets/base",
      "model_module_version": "1.2.0",
      "model_name": "LayoutModel",
      "state": {
       "width": "95px"
      }
     },
     "d193dc86e3ce48f1b611718f865d05d2": {
      "model_module": "@jupyter-widgets/controls",
      "model_module_version": "1.5.0",
      "model_name": "HTMLModel",
      "state": {
       "layout": "IPY_MODEL_7ed66f4b448b4826a686b24fa8f2b12e",
       "style": "IPY_MODEL_156f230d377e4dc48897d0e328ae312a",
       "value": "<h5>Message</h5>"
      }
     },
     "d3662db69a624be3acaa575fbae3d59e": {
      "model_module": "@jupyter-widgets/base",
      "model_module_version": "1.2.0",
      "model_name": "LayoutModel",
      "state": {
       "width": "95px"
      }
     },
     "e1ddec83d21b49438ad3b62beae85362": {
      "model_module": "@jupyter-widgets/controls",
      "model_module_version": "1.5.0",
      "model_name": "DescriptionStyleModel",
      "state": {
       "description_width": ""
      }
     },
     "e53e70e08536476ca59a744fe7dffce4": {
      "model_module": "@jupyter-widgets/base",
      "model_module_version": "1.2.0",
      "model_name": "LayoutModel",
      "state": {
       "grid_area": "right",
       "padding": "0px 0px 0px 0px",
       "width": "70px"
      }
     },
     "e5787f917cd24b978deba3828e21eec3": {
      "model_module": "@jupyter-widgets/controls",
      "model_module_version": "1.5.0",
      "model_name": "ButtonStyleModel",
      "state": {}
     },
     "e9134e0f557744cd9472277cb151c2d7": {
      "model_module": "@jupyter-widgets/base",
      "model_module_version": "1.2.0",
      "model_name": "LayoutModel",
      "state": {
       "margin": "0px 0px 10px 0px"
      }
     },
     "e956ef23489c4d39b4afd5d07f9744d9": {
      "model_module": "@jupyter-widgets/base",
      "model_module_version": "1.2.0",
      "model_name": "LayoutModel",
      "state": {
       "margin": "0px 0px 10px 0px"
      }
     },
     "f71c2655880e47258b3f280bb4a950eb": {
      "model_module": "@jupyter-widgets/controls",
      "model_module_version": "1.5.0",
      "model_name": "HTMLModel",
      "state": {
       "layout": "IPY_MODEL_abe7c5797354470d87239b359610000d",
       "style": "IPY_MODEL_213297f2fa274aae8c10054e679c13c0",
       "value": "<h5>Queue</h5>"
      }
     },
     "f873d7b8774241ecaa01b1d94e4d8f14": {
      "model_module": "@jupyter-widgets/base",
      "model_module_version": "1.2.0",
      "model_name": "LayoutModel",
      "state": {}
     }
    },
    "version_major": 2,
    "version_minor": 0
   }
  }
 },
 "nbformat": 4,
 "nbformat_minor": 5
}
